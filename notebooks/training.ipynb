{
 "cells": [
  {
   "cell_type": "code",
   "execution_count": 36,
   "metadata": {},
   "outputs": [],
   "source": [
    "import os\n",
    "import numpy as np\n",
    "import pandas as pd\n",
    "import PIL\n",
    "import matplotlib as mpl\n",
    "import seaborn as sns\n",
    "import statsmodels.formula.api as smf\n",
    "import sklearn.model_selection as sk\n",
    "import mectools.data as dt\n",
    "import tensorflow as tf\n",
    "from tensorflow import keras"
   ]
  },
  {
   "cell_type": "code",
   "execution_count": 3,
   "metadata": {},
   "outputs": [],
   "source": [
    "plt = plotter(backend='Agg')\n",
    "%matplotlib inline"
   ]
  },
  {
   "cell_type": "code",
   "execution_count": 4,
   "metadata": {},
   "outputs": [],
   "source": [
    "import warnings\n",
    "warnings.filterwarnings('ignore')"
   ]
  },
  {
   "cell_type": "code",
   "execution_count": 5,
   "metadata": {},
   "outputs": [],
   "source": [
    "# args\n",
    "seed = 2384923\n",
    "samp = 0.05\n",
    "BATCH_SIZE = 32\n",
    "size = 256"
   ]
  },
  {
   "cell_type": "code",
   "execution_count": 6,
   "metadata": {},
   "outputs": [],
   "source": [
    "# random init\n",
    "state = np.random.RandomState(seed)"
   ]
  },
  {
   "cell_type": "code",
   "execution_count": 9,
   "metadata": {},
   "outputs": [],
   "source": [
    "# functions\n",
    "def load_path(tag, base='../tiles/density', ext='jpg'):\n",
    "    tag = f'{tag:07d}'\n",
    "    sub = tag[:4]\n",
    "    return f'{base}/{size}px/{sub}/{tag}.{ext}'"
   ]
  },
  {
   "cell_type": "code",
   "execution_count": 41,
   "metadata": {},
   "outputs": [],
   "source": [
    "# evaluation\n",
    "def eval_model(model, X, y, ymin=-2, ymax=2, nbins=10):\n",
    "    fig, (ax0, ax1) = plt.subplots(ncols=2, figsize=(10, 5))\n",
    "    \n",
    "    yhat = model.predict(X)\n",
    "    res = pd.DataFrame({'y': y[:,0], 'yhat': yhat[:,0]}).astype(np.float)\n",
    "    res['err'] = res['yhat'] - res['y']\n",
    "    res1 = res.query(f'y > {ymin} and y < {ymax} and yhat > {ymin} and yhat < {ymax}')\n",
    "    ax0.hexbin(res1['y'], res1['yhat'], cmap=mpl.cm.Blues);\n",
    "    \n",
    "    bins = np.linspace(-ymin, ymax, nbins)\n",
    "    res['ybin'] = np.digitize(res['y'], bins)\n",
    "    res['ybin'] = np.minimum(nbins-1, res['ybin'])\n",
    "    bmean = res.groupby('ybin')['yhat'].mean()\n",
    "    bmean.plot(ax=ax1);"
   ]
  },
  {
   "cell_type": "code",
   "execution_count": 10,
   "metadata": {},
   "outputs": [],
   "source": [
    "# load in firm and location data\n",
    "firms = pd.read_csv('../firms/census_2004_geocode.csv', usecols=['id', 'industry', 'income', 'total_assets', 'employees'])\n",
    "targ = pd.read_csv('../targets/census_firms_2004.csv', usecols=['id', 'lat_wgs84', 'lon_wgs84'])\n",
    "firms = pd.merge(firms, targ, on='id', how='left').dropna()\n",
    "\n",
    "# downsample for now\n",
    "firms = firms.sample(frac=samp)\n",
    "\n",
    "# resolve image paths\n",
    "firms['file'] = firms['id'].apply(load_path)\n",
    "firms['fexist'] = firms['file'].apply(os.path.exists)\n",
    "firms = firms[firms['fexist']]\n",
    "\n",
    "# calculate outcome stats\n",
    "firms['prod'] = firms['income']/firms['employees']\n",
    "firms['lprod'] = dt.log(firms['prod'])\n",
    "firms = firms.dropna(subset=['lprod'])\n",
    "\n",
    "# calculate residual performance\n",
    "reg_ind = smf.ols('lprod ~ 0 + C(industry)', data=firms).fit()\n",
    "firms['lprod_resid'] = reg_ind.resid"
   ]
  },
  {
   "cell_type": "code",
   "execution_count": 11,
   "metadata": {},
   "outputs": [],
   "source": [
    "# load in image features\n",
    "features = np.stack([np.array(PIL.Image.open(fn)) for fn in firms['file']])\n",
    "features = features[:,:,:,None].astype(np.float32)/255 # single channel image"
   ]
  },
  {
   "cell_type": "code",
   "execution_count": 12,
   "metadata": {},
   "outputs": [],
   "source": [
    "# construct outcome variable\n",
    "# labels = firms['lprod_resid'].values\n",
    "labels = firms['lprod_resid'].values\n",
    "labels = labels[:,None].astype(np.float32)"
   ]
  },
  {
   "cell_type": "code",
   "execution_count": 13,
   "metadata": {},
   "outputs": [],
   "source": [
    "# do train/test split\n",
    "X_train, X_valid, y_train, y_valid = sk.train_test_split(features, labels, test_size=0.2, random_state=seed)"
   ]
  },
  {
   "cell_type": "markdown",
   "metadata": {},
   "source": [
    "### CNN Model"
   ]
  },
  {
   "cell_type": "code",
   "execution_count": null,
   "metadata": {},
   "outputs": [],
   "source": [
    "# CIFAR like model (1024px)\n",
    "model = keras.Sequential([\n",
    "    keras.layers.Conv2D(filters=16, kernel_size=8, activation='relu'),\n",
    "    keras.layers.MaxPooling2D(pool_size=8),\n",
    "    keras.layers.Dropout(0.25),\n",
    "    keras.layers.Conv2D(filters=32, kernel_size=8, activation='relu'),\n",
    "    keras.layers.MaxPooling2D(pool_size=4),\n",
    "    keras.layers.Dropout(0.25),\n",
    "    keras.layers.Flatten(),\n",
    "    keras.layers.Dense(units=64, activation='relu'),\n",
    "    keras.layers.Dropout(0.5),\n",
    "    keras.layers.Dense(units=1)\n",
    "])\n",
    "model.compile(loss='mean_squared_error', optimizer='adam')"
   ]
  },
  {
   "cell_type": "code",
   "execution_count": 43,
   "metadata": {},
   "outputs": [],
   "source": [
    "# CIFAR like model (256px)\n",
    "model = keras.Sequential([\n",
    "    keras.layers.Conv2D(filters=16, kernel_size=8, activation='relu'),\n",
    "    keras.layers.MaxPooling2D(pool_size=8),\n",
    "    keras.layers.Dropout(0.5),\n",
    "    keras.layers.Conv2D(filters=16, kernel_size=4, activation='relu'),\n",
    "    keras.layers.MaxPooling2D(pool_size=4),\n",
    "    keras.layers.Dropout(0.5),\n",
    "    keras.layers.Flatten(),\n",
    "    keras.layers.Dense(units=32, activation='relu'),\n",
    "    keras.layers.Dropout(0.5),\n",
    "    keras.layers.Dense(units=16),\n",
    "    keras.layers.Dropout(0.5),\n",
    "    keras.layers.Dense(units=1)\n",
    "])\n",
    "model.compile(loss='mean_squared_error', optimizer='adam')"
   ]
  },
  {
   "cell_type": "code",
   "execution_count": 44,
   "metadata": {},
   "outputs": [
    {
     "name": "stdout",
     "output_type": "stream",
     "text": [
      "WARNING:tensorflow:From /home/doug/.local/lib/python3.6/site-packages/tensorflow/python/keras/layers/core.py:143: calling dropout (from tensorflow.python.ops.nn_ops) with keep_prob is deprecated and will be removed in a future version.\n",
      "Instructions for updating:\n",
      "Please use `rate` instead of `keep_prob`. Rate should be set to `rate = 1 - keep_prob`.\n",
      "Train on 40 samples, validate on 10 samples\n",
      "Epoch 1/10\n",
      "40/40 [==============================] - 1s 25ms/sample - loss: 0.3484 - val_loss: 0.0592\n",
      "Epoch 2/10\n",
      "40/40 [==============================] - 1s 18ms/sample - loss: 0.4490 - val_loss: 0.0602\n",
      "Epoch 3/10\n",
      "40/40 [==============================] - 1s 16ms/sample - loss: 0.3385 - val_loss: 0.0607\n",
      "Epoch 4/10\n",
      "40/40 [==============================] - 1s 17ms/sample - loss: 0.3757 - val_loss: 0.0618\n",
      "Epoch 5/10\n",
      "40/40 [==============================] - 1s 19ms/sample - loss: 0.3366 - val_loss: 0.0625\n",
      "Epoch 6/10\n",
      "40/40 [==============================] - 1s 19ms/sample - loss: 0.3173 - val_loss: 0.0633\n",
      "Epoch 7/10\n",
      "40/40 [==============================] - 1s 17ms/sample - loss: 0.3393 - val_loss: 0.0638\n",
      "Epoch 8/10\n",
      "40/40 [==============================] - 1s 17ms/sample - loss: 0.3111 - val_loss: 0.0641\n",
      "Epoch 9/10\n",
      "40/40 [==============================] - 1s 17ms/sample - loss: 0.3297 - val_loss: 0.0646\n",
      "Epoch 10/10\n",
      "40/40 [==============================] - 1s 17ms/sample - loss: 0.3140 - val_loss: 0.0650\n"
     ]
    }
   ],
   "source": [
    "# train keras model\n",
    "history = model.fit(X_train, y_train, epochs=10, validation_data=[X_valid, y_valid])"
   ]
  },
  {
   "cell_type": "code",
   "execution_count": 45,
   "metadata": {},
   "outputs": [
    {
     "data": {
      "image/png": "[encoded data removed]",
      "text/plain": [
       "<Figure size 720x360 with 2 Axes>"
      ]
     },
     "metadata": {
      "needs_background": "light"
     },
     "output_type": "display_data"
    }
   ],
   "source": [
    "eval_model(model, X_valid, y_valid)"
   ]
  },
  {
   "cell_type": "code",
   "execution_count": 46,
   "metadata": {},
   "outputs": [
    {
     "data": {
      "image/png": "[encoded data removed]",
      "text/plain": [
       "<Figure size 432x432 with 3 Axes>"
      ]
     },
     "metadata": {
      "needs_background": "light"
     },
     "output_type": "display_data"
    }
   ],
   "source": [
    "# evaluate model\n",
    "yhat_valid = model.predict(X_valid)\n",
    "res_valid = pd.DataFrame({'y': y_valid[:,0], 'yhat': yhat_valid[:,0]}).astype(np.float)\n",
    "res_valid['err'] = res_valid['yhat'] - res_valid['y']\n",
    "res_valid1 = res_valid.query('y > -2 and y < 2 and yhat > -2 and yhat < 2')\n",
    "sns.jointplot('y', 'yhat', data=res_valid1, kind='hex');"
   ]
  },
  {
   "cell_type": "code",
   "execution_count": null,
   "metadata": {},
   "outputs": [],
   "source": [
    "# evaluate fit\n",
    "yhat_train = model.predict(X_train)\n",
    "res_train = pd.DataFrame({'y': y_train[:,0], 'yhat': yhat_train[:,0]}).astype(np.float)\n",
    "res_train['err'] = res_train['yhat'] - res_train['y']\n",
    "res_train1 = res_train.query('y > -2 and y < 2 and yhat > -2 and yhat < 2')\n",
    "sns.jointplot('y', 'yhat', data=res_train1, kind='hex');"
   ]
  },
  {
   "cell_type": "code",
   "execution_count": null,
   "metadata": {},
   "outputs": [],
   "source": [
    "nbins = 10\n",
    "bins = np.linspace(-2, 2, nbins)\n",
    "res_valid['ybin'] = np.digitize(res_valid['y'], bins)\n",
    "res_valid['ybin'] = np.minimum(nbins-1, res_valid['ybin'])\n",
    "bmean = res_valid.groupby('ybin')['yhat'].mean()\n",
    "bmean.index = bins\n",
    "bmean.plot();"
   ]
  },
  {
   "cell_type": "code",
   "execution_count": null,
   "metadata": {},
   "outputs": [],
   "source": [
    "nbins = 10\n",
    "bins = np.linspace(-2, 2, nbins)\n",
    "res_train['ybin'] = np.digitize(res_train['y'], bins)\n",
    "res_train['ybin'] = np.minimum(nbins-1, res_train['ybin'])\n",
    "bmean = res_train.groupby('ybin')['yhat'].mean()\n",
    "bmean.index = bins\n",
    "bmean.plot();"
   ]
  },
  {
   "cell_type": "markdown",
   "metadata": {},
   "source": [
    "### Classical"
   ]
  },
  {
   "cell_type": "code",
   "execution_count": 15,
   "metadata": {},
   "outputs": [
    {
     "name": "stdout",
     "output_type": "stream",
     "text": [
      "WARNING:tensorflow:From /home/doug/.local/lib/python3.6/site-packages/tensorflow/python/keras/utils/losses_utils.py:170: to_float (from tensorflow.python.ops.math_ops) is deprecated and will be removed in a future version.\n",
      "Instructions for updating:\n",
      "Use tf.cast instead.\n",
      "Train on 40 samples, validate on 10 samples\n",
      "WARNING:tensorflow:From /home/doug/.local/lib/python3.6/site-packages/tensorflow/python/ops/math_ops.py:3066: to_int32 (from tensorflow.python.ops.math_ops) is deprecated and will be removed in a future version.\n",
      "Instructions for updating:\n",
      "Use tf.cast instead.\n",
      "Epoch 1/10\n",
      "40/40 [==============================] - 0s 4ms/sample - loss: 0.3173 - val_loss: 0.0575\n",
      "Epoch 2/10\n",
      "40/40 [==============================] - 0s 266us/sample - loss: 0.3173 - val_loss: 0.0575\n",
      "Epoch 3/10\n",
      "40/40 [==============================] - 0s 250us/sample - loss: 0.3173 - val_loss: 0.0576\n",
      "Epoch 4/10\n",
      "40/40 [==============================] - 0s 216us/sample - loss: 0.3172 - val_loss: 0.0577\n",
      "Epoch 5/10\n",
      "40/40 [==============================] - 0s 252us/sample - loss: 0.3172 - val_loss: 0.0578\n",
      "Epoch 6/10\n",
      "40/40 [==============================] - 0s 218us/sample - loss: 0.3171 - val_loss: 0.0579\n",
      "Epoch 7/10\n",
      "40/40 [==============================] - 0s 276us/sample - loss: 0.3171 - val_loss: 0.0580\n",
      "Epoch 8/10\n",
      "40/40 [==============================] - 0s 270us/sample - loss: 0.3171 - val_loss: 0.0581\n",
      "Epoch 9/10\n",
      "40/40 [==============================] - 0s 178us/sample - loss: 0.3170 - val_loss: 0.0582\n",
      "Epoch 10/10\n",
      "40/40 [==============================] - 0s 254us/sample - loss: 0.3170 - val_loss: 0.0583\n"
     ]
    }
   ],
   "source": [
    "model_mean = keras.Sequential([\n",
    "    keras.layers.GlobalAveragePooling2D(),\n",
    "    keras.layers.Dense(1)\n",
    "])\n",
    "model_mean.compile(loss='mean_squared_error', optimizer='adam')\n",
    "history = model_mean.fit(X_train, y_train, epochs=10, validation_data=[X_valid, y_valid])"
   ]
  },
  {
   "cell_type": "code",
   "execution_count": 42,
   "metadata": {},
   "outputs": [
    {
     "data": {
      "image/png": "[encoded data removed]",
      "text/plain": [
       "<Figure size 720x360 with 2 Axes>"
      ]
     },
     "metadata": {
      "needs_background": "light"
     },
     "output_type": "display_data"
    }
   ],
   "source": [
    "eval_model(model_mean, X_valid, y_valid)"
   ]
  },
  {
   "cell_type": "code",
   "execution_count": 33,
   "metadata": {},
   "outputs": [
    {
     "data": {
      "text/plain": [
       "[array([[1.2474184]], dtype=float32), array([-0.0062711], dtype=float32)]"
      ]
     },
     "execution_count": 33,
     "metadata": {},
     "output_type": "execute_result"
    }
   ],
   "source": [
    "x = model_mean.layers[1]\n",
    "x.get_weights()"
   ]
  },
  {
   "cell_type": "code",
   "execution_count": null,
   "metadata": {},
   "outputs": [],
   "source": []
  }
 ],
 "metadata": {
  "kernelspec": {
   "display_name": "Python 3.6",
   "language": "python",
   "name": "python36"
  },
  "language_info": {
   "codemirror_mode": {
    "name": "ipython",
    "version": 3
   },
   "file_extension": ".py",
   "mimetype": "text/x-python",
   "name": "python",
   "nbconvert_exporter": "python",
   "pygments_lexer": "ipython3",
   "version": "3.6.8"
  }
 },
 "nbformat": 4,
 "nbformat_minor": 2
}

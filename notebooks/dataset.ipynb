{
 "cells": [
  {
   "cell_type": "code",
   "execution_count": 0,
   "metadata": {},
   "outputs": [],
   "source": [
    "import os\n",
    "from glob import glob\n",
    "import numpy as np\n",
    "import pandas as pd\n",
    "import tensorflow as tf\n",
    "from tensorflow import keras\n",
    "from PIL import Image\n",
    "import mectools.data as dt\n",
    "import sklearn.model_selection as sk"
   ]
  },
  {
   "cell_type": "code",
   "execution_count": 0,
   "metadata": {},
   "outputs": [],
   "source": [
    "import warnings\n",
    "warnings.filterwarnings('ignore')"
   ]
  },
  {
   "cell_type": "code",
   "execution_count": 0,
   "metadata": {},
   "outputs": [],
   "source": [
    "import matplotlib as mpl\n",
    "plt = plotter(backend='agg')\n",
    "%matplotlib inline"
   ]
  },
  {
   "cell_type": "code",
   "execution_count": 0,
   "metadata": {},
   "outputs": [],
   "source": [
    "for gpu in tf.config.experimental.list_physical_devices('GPU'):\n",
    "    print(gpu)\n",
    "    tf.config.experimental.set_memory_growth(gpu, True)"
   ]
  },
  {
   "cell_type": "code",
   "execution_count": 0,
   "metadata": {},
   "outputs": [],
   "source": [
    "K = 256 # image size in pixels"
   ]
  },
  {
   "cell_type": "code",
   "execution_count": 0,
   "metadata": {},
   "outputs": [],
   "source": [
    "# evaluation\n",
    "def eval_model(y, yhat, ymin=-2, ymax=2, nbins=10, axs=None):\n",
    "    if axs is None:\n",
    "        _, (ax0, ax1) = plt.subplots(ncols=2, figsize=(12, 5))\n",
    "    else:\n",
    "        ax0, ax1 = axs\n",
    "\n",
    "    res = pd.DataFrame({'y': y, 'yhat': yhat}).astype(np.float)\n",
    "    res['err'] = res['yhat'] - res['y']\n",
    "    res1 = res.query(f'y > {ymin} and y < {ymax} and yhat > {ymin} and yhat < {ymax}')\n",
    "    ax0.hexbin(res1['y'], res1['yhat'], cmap=mpl.cm.Blues, gridsize=20);\n",
    "    \n",
    "    bins = np.linspace(ymin, ymax, nbins)\n",
    "    res['ybin'] = np.digitize(res['y'], bins)\n",
    "    res['ybin'] = np.minimum(nbins-1, res['ybin'])\n",
    "    bmean = res.groupby('ybin')['yhat'].mean()\n",
    "    bmean = bmean.reindex(np.arange(nbins))\n",
    "    bmean.index = bins\n",
    "    bmean.plot(ax=ax1);\n",
    "    \n",
    "    ax0.set_xlabel('True Productivity')\n",
    "    ax0.set_ylabel('Predicted Productivity')\n",
    "    ax0.set_title('Joint Distribution')\n",
    "    ax1.set_xlabel('True Productivity')\n",
    "    # ax1.set_ylabel('Predicted Productivity')\n",
    "    ax1.set_title(f'Binned Results ({nbins})')"
   ]
  },
  {
   "cell_type": "code",
   "execution_count": 0,
   "metadata": {},
   "outputs": [],
   "source": [
    "def predict_data(data, steps):\n",
    "    it = iter(data)\n",
    "    x_test, y_test = zip(*[next(it) for _ in range(steps)])\n",
    "    yh_test = [model.predict(x) for x in x_test]\n",
    "    return np.concat(x_test), np.concat(y_test), np.concat(yh_test)"
   ]
  },
  {
   "cell_type": "code",
   "execution_count": 0,
   "metadata": {},
   "outputs": [],
   "source": [
    "# functions\n",
    "def load_path(tag, source, size, base='../tiles', ext='jpg'):\n",
    "    tag = f'{tag:07d}'\n",
    "    sub = tag[:4]\n",
    "    return f'{base}/{source}/{size}px/{sub}/{tag}.{ext}'"
   ]
  },
  {
   "cell_type": "code",
   "execution_count": 0,
   "metadata": {},
   "outputs": [],
   "source": [
    "# load in firm and location data\n",
    "firms = pd.read_csv('../firms/census_2004_geocode.csv', usecols=['id', 'industry', 'income', 'total_assets', 'employees'])\n",
    "targ = pd.read_csv('../index/census2004_mincloud2002.csv', usecols=['id', 'lat_wgs84', 'lon_wgs84', 'prod_id'])\n",
    "firms = pd.merge(firms, targ, on='id', how='left').dropna()\n",
    "# firms = firms.sample(n=1000)\n",
    "\n",
    "# calculate outcome stats\n",
    "firms['prod'] = firms['income']/firms['employees']\n",
    "firms['lprod'] = dt.log(firms['prod'])\n",
    "firms = firms.dropna(subset=['lprod'])\n",
    "N = len(firms)\n",
    "print(N)"
   ]
  },
  {
   "cell_type": "code",
   "execution_count": 0,
   "metadata": {},
   "outputs": [],
   "source": [
    "# split into training and validation\n",
    "df_train, df_valid = sk.train_test_split(firms, test_size=0.2)"
   ]
  },
  {
   "cell_type": "code",
   "execution_count": 0,
   "metadata": {},
   "outputs": [],
   "source": [
    "def parse_function(fpden, lprod):\n",
    "    imden = tf.image.decode_jpeg(tf.io.read_file(fpden), channels=1)\n",
    "    return imden, lprod"
   ]
  },
  {
   "cell_type": "code",
   "execution_count": 0,
   "metadata": {},
   "outputs": [],
   "source": [
    "def make_dataset(df):\n",
    "    fpath = tf.constant([load_path(fid, 'density', 1024) for fid in df['id']])\n",
    "    labels = tf.reshape(tf.cast(tf.constant(df['lprod']), tf.float32), (-1, 1))\n",
    "    data = tf.data.Dataset.from_tensor_slices((fpath, labels))\n",
    "    data = data.map(parse_function)\n",
    "    data = data.shuffle(buffer_size=10000)\n",
    "    data = data.batch(32)\n",
    "    data = data.repeat()\n",
    "    return data"
   ]
  },
  {
   "cell_type": "code",
   "execution_count": 0,
   "metadata": {},
   "outputs": [],
   "source": [
    "train, valid = make_dataset(df_train), make_dataset(df_valid)"
   ]
  },
  {
   "cell_type": "code",
   "execution_count": 0,
   "metadata": {},
   "outputs": [],
   "source": [
    "# iterator = train.make_one_shot_iterator()\n",
    "# batch = iterator.get_next()\n",
    "# with tf.Session() as sess:\n",
    "#     den, pr = sess.run(batch)\n",
    "# print(den.shape, pr.shape)\n",
    "# Image.fromarray(den[0,:,:,0])"
   ]
  },
  {
   "cell_type": "code",
   "execution_count": 0,
   "metadata": {},
   "outputs": [],
   "source": [
    "# CIFAR like model (1024px)\n",
    "model = keras.Sequential([\n",
    "    keras.layers.Input(shape=(K, K, 1)),\n",
    "    keras.layers.Conv2D(filters=16, kernel_size=8, activation='relu'),\n",
    "    keras.layers.MaxPooling2D(pool_size=8),\n",
    "    keras.layers.Dropout(0.25),\n",
    "    keras.layers.Conv2D(filters=32, kernel_size=8, activation='relu'),\n",
    "    keras.layers.MaxPooling2D(pool_size=4),\n",
    "    keras.layers.Dropout(0.25),\n",
    "    keras.layers.Flatten(),\n",
    "    keras.layers.Dense(units=64, activation='relu'),\n",
    "    keras.layers.Dropout(0.5),\n",
    "    keras.layers.Dense(units=1)\n",
    "])\n",
    "model.compile(loss='mean_squared_error', optimizer='adam')"
   ]
  },
  {
   "cell_type": "code",
   "execution_count": 0,
   "metadata": {},
   "outputs": [],
   "source": [
    "# average density model (1024px)\n",
    "# input_dense = keras.layers.Input(shape=(K, K, 1), name='density1024')\n",
    "# output_prod = keras.layers.GlobalAveragePooling2D()(input_dense)\n",
    "# model = keras.Model(inputs=[input_dense], outputs=[output_prod])\n",
    "# model.compile(loss='mean_squared_error', optimizer='adam')"
   ]
  },
  {
   "cell_type": "code",
   "execution_count": 0,
   "metadata": {},
   "outputs": [],
   "source": [
    "# train keras model\n",
    "history = model.fit(train, epochs=10, steps_per_epoch=500, validation_data=valid, validation_steps=20)"
   ]
  },
  {
   "cell_type": "code",
   "execution_count": 0,
   "metadata": {},
   "outputs": [],
   "source": [
    "x_test, y_test, yh_test = predict_data(valid, 20)\n",
    "fig, (ax0, ax1) = plt.subplots(ncols=2, figsize=(10, 5))\n",
    "eval_model(y_test[:,0], yh_test[:,0], ymin=2, ymax=6, axs=(ax0, ax1))"
   ]
  },
  {
   "cell_type": "code",
   "execution_count": 0,
   "metadata": {},
   "outputs": [],
   "source": [
    "x_test, y_test, yh_test = predict_data(train, 20)\n",
    "fig, (ax0, ax1) = plt.subplots(ncols=2, figsize=(10, 5))\n",
    "eval_model(y_test[:,0], yh_test[:,0], ymin=2, ymax=6, axs=(ax0, ax1))"
   ]
  },
  {
   "cell_type": "code",
   "execution_count": 0,
   "metadata": {},
   "outputs": [],
   "source": []
  }
 ],
 "metadata": {
  "kernelspec": {
   "display_name": "Python 3.7",
   "language": "python",
   "name": "python3.7"
  },
  "language_info": {
   "codemirror_mode": {
    "name": "ipython",
    "version": 3
   },
   "file_extension": ".py",
   "mimetype": "text/x-python",
   "name": "python",
   "nbconvert_exporter": "python",
   "pygments_lexer": "ipython3",
   "version": "3.7.1"
  }
 },
 "nbformat": 4,
 "nbformat_minor": 2
}
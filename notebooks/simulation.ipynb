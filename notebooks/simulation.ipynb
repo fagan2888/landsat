{
 "cells": [
  {
   "cell_type": "markdown",
   "metadata": {},
   "source": [
    "### Simulated"
   ]
  },
  {
   "cell_type": "code",
   "execution_count": 0,
   "metadata": {},
   "outputs": [],
   "source": [
    "from scipy.ndimage.filters import gaussian_filter"
   ]
  },
  {
   "cell_type": "code",
   "execution_count": 0,
   "metadata": {},
   "outputs": [],
   "source": [
    "NC = 10\n",
    "CS = 50\n",
    "CW = 0.05\n",
    "pixel = 15\n",
    "sigma = 2\n",
    "norm = 300"
   ]
  },
  {
   "cell_type": "code",
   "execution_count": 0,
   "metadata": {},
   "outputs": [],
   "source": [
    "# generate firm locations\n",
    "c_cent = 0.5 + 0.25*np.random.randn(NC, 2)\n",
    "c_size = np.random.poisson(CS, size=NC)\n",
    "f_locs = np.vstack([cc+CW*np.random.randn(cs, 2) for cc, cs in zip(c_cent, c_size)])\n",
    "df_locs = pd.DataFrame({'lon': f_locs[:,0], 'lat': f_locs[:,1]})\n",
    "df_locs = df_locs[(df_locs['lon']>0)&(df_locs['lon']<1)&(df_locs['lat']>0)&(df_locs['lat']<1)]\n",
    "len(df_locs)"
   ]
  },
  {
   "cell_type": "code",
   "execution_count": 0,
   "metadata": {},
   "outputs": [],
   "source": [
    "# compute density\n",
    "im_range = (0, 1)\n",
    "count, lon_bins, lat_bins = np.histogram2d(df_locs['lon'], df_locs['lat'], bins=size, range=((0, 1), (0, 1)))\n",
    "dens = count/(pixel/1e3)**2 # firms per square kilometer\n",
    "dens = gaussian_filter(dens, sigma=sigma)\n",
    "dens = dens/(dens+norm)"
   ]
  },
  {
   "cell_type": "code",
   "execution_count": 0,
   "metadata": {},
   "outputs": [],
   "source": [
    "plt.imshow(dens.T, origin='lower');\n",
    "plt.colorbar();"
   ]
  },
  {
   "cell_type": "code",
   "execution_count": 0,
   "metadata": {},
   "outputs": [],
   "source": [
    "PIL.Image.fromarray((255*dens).astype(np.uint8))"
   ]
  },
  {
   "cell_type": "code",
   "execution_count": 0,
   "metadata": {},
   "outputs": [],
   "source": []
  }
 ],
 "metadata": {
  "kernelspec": {
   "display_name": "Python 3.6",
   "language": "python",
   "name": "python36"
  },
  "language_info": {
   "codemirror_mode": {
    "name": "ipython",
    "version": 3
   },
   "file_extension": ".py",
   "mimetype": "text/x-python",
   "name": "python",
   "nbconvert_exporter": "python",
   "pygments_lexer": "ipython3",
   "version": "3.6.8"
  }
 },
 "nbformat": 4,
 "nbformat_minor": 2
}
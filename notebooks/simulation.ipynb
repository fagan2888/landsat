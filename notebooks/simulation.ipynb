{
 "cells": [
  {
   "cell_type": "markdown",
   "metadata": {},
   "source": [
    "### Simulated"
   ]
  },
  {
   "cell_type": "code",
   "execution_count": 0,
   "metadata": {},
   "outputs": [],
   "source": [
    "from scipy.ndimage.filters import gaussian_filter\n",
    "from statsmodels.nonparametric.kde import kdensityfft\n",
    "from matplotlib import cm\n",
    "from PIL import Image\n",
    "from itertools import product"
   ]
  },
  {
   "cell_type": "code",
   "execution_count": 0,
   "metadata": {},
   "outputs": [],
   "source": [
    "plt = plotter()\n",
    "%matplotlib inline"
   ]
  },
  {
   "cell_type": "code",
   "execution_count": 0,
   "metadata": {},
   "outputs": [],
   "source": [
    "seed = 8482028\n",
    "max_seed = 2**32 - 1\n",
    "gen_seed = lambda st: st.randint(max_seed)"
   ]
  },
  {
   "cell_type": "code",
   "execution_count": 0,
   "metadata": {},
   "outputs": [],
   "source": [
    "pixel = 15\n",
    "size = 256\n",
    "sigma = 2"
   ]
  },
  {
   "cell_type": "code",
   "execution_count": 0,
   "metadata": {},
   "outputs": [],
   "source": [
    "norm = 300\n",
    "eps = 1e-16"
   ]
  },
  {
   "cell_type": "code",
   "execution_count": 0,
   "metadata": {},
   "outputs": [],
   "source": [
    "normalize = lambda x: x/(x+norm)\n",
    "quantize = lambda x: (256*(x-eps)).astype(np.uint8)\n",
    "rms = lambda x: np.sqrt(np.sum(x*x))"
   ]
  },
  {
   "cell_type": "code",
   "execution_count": 0,
   "metadata": {},
   "outputs": [],
   "source": [
    "# generate firm locations\n",
    "def gen_firms(NC, NF, CS, CW, state=np.random):\n",
    "    if type(state) is int:\n",
    "        state = np.random.RandomState(state)\n",
    "    c_cent = 0.5 + 0.25*state.randn(NC, 2)\n",
    "    c_size = state.poisson(CS, size=NC)\n",
    "    f_zero = 0.5 + 0.5*state.randn(NF, 2)\n",
    "    f_base = np.array([0.5, 0.5])\n",
    "    f_ones = np.vstack([cc+CW*state.randn(cs, 2) for cc, cs in zip(c_cent, c_size)])\n",
    "    f_locs = np.vstack([f_zero, f_ones, f_base])\n",
    "    df = pd.DataFrame({'lon': f_locs[:,0], 'lat': f_locs[:,1]})\n",
    "    df = df[(df['lon']>0)&(df['lon']<1)&(df['lat']>0)&(df['lat']<1)]\n",
    "    return df"
   ]
  },
  {
   "cell_type": "code",
   "execution_count": 0,
   "metadata": {},
   "outputs": [],
   "source": [
    "def gen_density(df):\n",
    "    count, lon_bins, lat_bins = np.histogram2d(df['lon'], df['lat'], bins=size, range=((0, 1), (0, 1)))\n",
    "    dens = count/(pixel/1e3)**2 # firms per square kilometer\n",
    "    dens = gaussian_filter(dens, sigma=sigma)\n",
    "    dimg = quantize(1-normalize(dens))\n",
    "    return dimg"
   ]
  },
  {
   "cell_type": "markdown",
   "metadata": {},
   "source": [
    "### Duranton"
   ]
  },
  {
   "cell_type": "code",
   "execution_count": 0,
   "metadata": {},
   "outputs": [],
   "source": [
    "st = np.random.RandomState(seed)\n",
    "sd0, sd1 = gen_seed(st), gen_seed(st)\n",
    "df_locs1 = gen_firms(1, 200, 100, 0.05, state=sd0)\n",
    "df_locs2 = gen_firms(2, 100, 100, 0.05, state=sd1)"
   ]
  },
  {
   "cell_type": "code",
   "execution_count": 0,
   "metadata": {},
   "outputs": [],
   "source": [
    "dist1 = pd.Series([rms(x-y) for x, y in product(df_locs1.values, df_locs1.values)])\n",
    "dist2 = pd.Series([rms(x-y) for x, y in product(df_locs2.values, df_locs2.values)])\n",
    "fig, (ax1, ax2) = plt.subplots(ncols=2, figsize=(12, 5))\n",
    "kde_vals1, kde_grid1, kde_bw1 = kdensityfft(dist1.values)\n",
    "kde_vals2, kde_grid2, kde_bw2 = kdensityfft(dist2.values)\n",
    "ax1.plot(kde_grid1, kde_vals1);\n",
    "ax2.plot(kde_grid2, kde_vals2);\n",
    "ax1.set_xlim(0, 1);\n",
    "ax2.set_xlim(0, 1);\n",
    "ax1.set_xlabel('Distance (km)')\n",
    "ax2.set_xlabel('Distance (km)')\n",
    "ax1.set_ylabel('Density')\n",
    "ax1.set_title('Mono-polar City')\n",
    "ax2.set_title('Di-polar City')\n",
    "fig.savefig('../slides/images/simulated_twopoint.svg')"
   ]
  },
  {
   "cell_type": "code",
   "execution_count": 0,
   "metadata": {},
   "outputs": [],
   "source": [
    "dimg1 = gen_density(df_locs1)\n",
    "dimg2 = gen_density(df_locs2)\n",
    "fig, (ax1, ax2) = plt.subplots(ncols=2, figsize=(12, 5))\n",
    "ax1.scatter(*df_locs1.values.T, alpha=0.5)\n",
    "ax2.scatter(*df_locs2.values.T, alpha=0.5)\n",
    "ax1.set_xlim(0, 1)\n",
    "ax2.set_xlim(0, 1)\n",
    "ax1.set_ylim(0, 1)\n",
    "ax2.set_ylim(0, 1)\n",
    "ax1.set_title('Mono-polar City')\n",
    "ax2.set_title('Di-polar City')\n",
    "fig.savefig('../slides/images/simulated_scatter.svg')"
   ]
  },
  {
   "cell_type": "code",
   "execution_count": 0,
   "metadata": {},
   "outputs": [],
   "source": [
    "dimg1 = gen_density(df_locs1)\n",
    "dimg2 = gen_density(df_locs2)\n",
    "fig, (ax1, ax2) = plt.subplots(ncols=2, figsize=(12, 5))\n",
    "ax1.imshow(dimg1, cmap=cm.Greys_r)\n",
    "ax2.imshow(dimg2, cmap=cm.Greys_r)\n",
    "ax1.set_title('Mono-polar City')\n",
    "ax2.set_title('Di-polar City')\n",
    "fig.savefig('../slides/images/simulated_density.svg')"
   ]
  },
  {
   "cell_type": "markdown",
   "metadata": {},
   "source": [
    "### Example"
   ]
  },
  {
   "cell_type": "code",
   "execution_count": 0,
   "metadata": {},
   "outputs": [],
   "source": [
    "df_locs = gen_firms(2, 100, 100, 0.05, state=seed)\n",
    "dimg = gen_density(df_locs)"
   ]
  },
  {
   "cell_type": "code",
   "execution_count": 0,
   "metadata": {},
   "outputs": [],
   "source": [
    "fig, (ax0, ax1) = plt.subplots(ncols=2, figsize=(12, 5))\n",
    "ax0.scatter(*df_locs.values.T, alpha=0.5)\n",
    "ax0.axis('square')\n",
    "ax0.set_xlim(0, 1)\n",
    "ax0.set_ylim(0, 1)\n",
    "ax0.set_title('Firm Scatter Plot')\n",
    "ax1.imshow(dimg.T, cmap=cm.Greys_r, origin='lower')\n",
    "ax1.axis('square')\n",
    "ax1.set_xlim(0, 256)\n",
    "ax1.set_ylim(0, 256)\n",
    "ax1.set_title('Firm Density Map')\n",
    "fig.savefig('../slides/images/density_map.png', dpi=300, bbox_inches='tight')"
   ]
  },
  {
   "cell_type": "code",
   "execution_count": 0,
   "metadata": {},
   "outputs": [],
   "source": [
    "dimgx = dimg.copy()\n",
    "dimgx[0,:] = 0\n",
    "dimgx[-1,:] = 0\n",
    "dimgx[:,0] = 0\n",
    "dimgx[:,-1] = 0\n",
    "imgx = Image.fromarray(dimgx.T[::-1,:])\n",
    "imgx.save('../slides/images/cell.png')\n",
    "imgx"
   ]
  },
  {
   "cell_type": "code",
   "execution_count": 0,
   "metadata": {},
   "outputs": [],
   "source": []
  }
 ],
 "metadata": {
  "kernelspec": {
   "display_name": "Python 3",
   "language": "python",
   "name": "python3"
  },
  "language_info": {
   "codemirror_mode": {
    "name": "ipython",
    "version": 3
   },
   "file_extension": ".py",
   "mimetype": "text/x-python",
   "name": "python",
   "nbconvert_exporter": "python",
   "pygments_lexer": "ipython3",
   "version": "3.7.1"
  }
 },
 "nbformat": 4,
 "nbformat_minor": 2
}
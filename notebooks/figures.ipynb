{
 "cells": [
  {
   "cell_type": "markdown",
   "metadata": {},
   "source": [
    "# Figures"
   ]
  },
  {
   "cell_type": "code",
   "execution_count": 0,
   "metadata": {},
   "outputs": [],
   "source": [
    "import warnings\n",
    "warnings.filterwarnings('ignore')"
   ]
  },
  {
   "cell_type": "code",
   "execution_count": 0,
   "metadata": {},
   "outputs": [],
   "source": [
    "plt = plotter(backend='agg')\n",
    "%matplotlib inline"
   ]
  },
  {
   "cell_type": "code",
   "execution_count": 0,
   "metadata": {},
   "outputs": [],
   "source": [
    "from PIL import Image\n",
    "Image.MAX_IMAGE_PIXELS = 1000000000\n",
    "from pyproj import Proj\n",
    "from matplotlib import cm"
   ]
  },
  {
   "cell_type": "code",
   "execution_count": 0,
   "metadata": {},
   "outputs": [],
   "source": [
    "import location_tools"
   ]
  },
  {
   "cell_type": "code",
   "execution_count": 0,
   "metadata": {},
   "outputs": [],
   "source": [
    "pixel = 15\n",
    "cmap = cm.jet\n",
    "extent = lambda s: [-pixel*s/2, pixel*s/2, -pixel*s/2, pixel*s/2]\n",
    "decloud = lambda x, cut: np.choose(x<cut, [np.zeros_like(x), x])\n",
    "amp = lambda x, alpha: 255*((x-np.min(x))/(np.max(x)-np.min(x)))**alpha"
   ]
  },
  {
   "cell_type": "markdown",
   "metadata": {},
   "source": [
    "## CGS-02 and BD-09 Correction"
   ]
  },
  {
   "cell_type": "code",
   "execution_count": 0,
   "metadata": {},
   "outputs": [],
   "source": [
    "index = pd.read_csv('targets/google_scenes_2002_mincloud.csv')"
   ]
  },
  {
   "cell_type": "code",
   "execution_count": 0,
   "metadata": {},
   "outputs": [],
   "source": [
    "x_lon, x_lat = 116.390797, 39.916406 # beijing (forbidden city)\n",
    "\n",
    "# scale params\n",
    "vmin, vmax = 32, 100\n",
    "rad, size = 256, 512\n",
    "ext = extent(size)\n",
    "\n",
    "# extract tiles\n",
    "tile0 = location_tools.extract_satelite_tile(x_lon, x_lat, index, rad=rad, size=size, proj='bd-09')\n",
    "tile1 = location_tools.extract_satelite_tile(x_lon, x_lat, index, rad=rad, size=size, proj='wgs-84')\n",
    "arr0, arr1 = np.asarray(tile0), np.asarray(tile1)\n",
    "\n",
    "# make plots\n",
    "fig, ax = plt.subplots(ncols=2, figsize=(12, 6))\n",
    "ax[0].imshow(arr0, cmap=cm.jet, interpolation='lanczos', vmin=vmin, vmax=vmax, extent=ext)\n",
    "ax[1].imshow(arr1, cmap=cm.jet, interpolation='lanczos', vmin=vmin, vmax=vmax, extent=ext)\n",
    "ax[0].scatter([0], [0], c='r');\n",
    "ax[1].scatter([0], [0], c='r');\n",
    "ax[0].set_title('Uncorrected BG-09 Coordinates')\n",
    "ax[1].set_title('Corrected WGS-84 Coordinates')\n",
    "fig.savefig('draft/images/bd_wgs_compare.svg');"
   ]
  },
  {
   "cell_type": "markdown",
   "metadata": {},
   "source": [
    "## Landsat Imagery Demo"
   ]
  },
  {
   "cell_type": "code",
   "execution_count": 0,
   "metadata": {},
   "outputs": [],
   "source": [
    "coldefs = {'No': 'id', 'longitude': 'lon', 'latitude': 'lat'}\n",
    "firms = pd.read_csv('firms/census_2004_geocode.csv', usecols=coldefs).rename(columns=coldefs)"
   ]
  },
  {
   "cell_type": "code",
   "execution_count": 0,
   "metadata": {},
   "outputs": [],
   "source": [
    "fid = 1082781 # Shanghai Happy Vacuum Cleaner Factory\n",
    "info = firms[firms['id']==fid].iloc[0]\n",
    "x_lon, x_lat = info[['lon', 'lat']]\n",
    "\n",
    "# scale params\n",
    "rad0, rad1 = 256, 1024\n",
    "vmin, vmax = 32, 130\n",
    "ext0, ext1 = extent(rad0), extent(rad1)\n",
    "size = 512\n",
    "\n",
    "# extract tiles\n",
    "tile0 = location_tools.extract_satelite_tile(x_lon, x_lat, index, rad=rad0, size=size, proj='bd-09')\n",
    "tile1 = location_tools.extract_satelite_tile(x_lon, x_lat, index, rad=rad1, size=size, proj='bd-09')\n",
    "arr0, arr1 = np.asarray(tile0), np.asarray(tile1)\n",
    "arr0, arr1 = decloud(arr0, 100), decloud(arr1, 100)\n",
    "\n",
    "# make plots\n",
    "fig, ax = plt.subplots(ncols=2, figsize=(12, 6))\n",
    "ax[0].imshow(arr0, cmap=cmap, interpolation='lanczos', vmin=vmin, vmax=vmax, extent=ext0)\n",
    "ax[1].imshow(arr1, cmap=cmap, interpolation='lanczos', vmin=vmin, vmax=vmax, extent=ext1)\n",
    "ax[0].scatter([0], [0], c='r');\n",
    "ax[1].scatter([0], [0], c='r');\n",
    "ax[0].set_title('Firm Location, 2km Radius')\n",
    "ax[1].set_title('Firm Location, 7km Radius')\n",
    "fig.savefig('draft/images/landsat_demo.svg');"
   ]
  },
  {
   "cell_type": "markdown",
   "metadata": {},
   "source": [
    "## Firm Density Demo"
   ]
  },
  {
   "cell_type": "code",
   "execution_count": 0,
   "metadata": {},
   "outputs": [],
   "source": [
    "# lon1, lat1 = 116.390797, 39.916406 # beijing\n",
    "# lon1, lat1 = 114.066500, 22.654437 # huawei\n",
    "# lon1, lat1 = 104.066465, 30.658427 # chengdu\n",
    "lon0, lat0 = 121.439610, 31.265273 # shanghai\n",
    "lon1, lat1 = 108.944372, 34.265481 # xi'an\n",
    "\n",
    "rad0, rad1 = 1800, 512\n",
    "ext0, ext1 = extent(rad0), extent(rad1)\n",
    "vmin, vmax = 32, 130\n",
    "size = 512\n",
    "\n",
    "sat = location_tools.extract_satelite_tile(lon0, lat0, index, rad=rad0, size=size, proj='bd-09')\n",
    "den = location_tools.extract_density_tile(lon0, lat0, rad=rad0, size=size, proj='bd-09')\n",
    "arr_sat, arr_den = np.asarray(sat), np.asarray(den)\n",
    "arr_sat, arr_den = 1.0*amp(decloud(arr_sat, 100), 2.5), amp(arr_den, 0.7)\n",
    "arr_mix0 = np.stack([arr_sat/255+2*arr_den/255, arr_sat/255, arr_sat/255], axis=2)\n",
    "\n",
    "sat = location_tools.extract_satelite_tile(lon1, lat1, index, rad=rad1, size=size, proj='bd-09')\n",
    "den = location_tools.extract_density_tile(lon1, lat1, rad=rad1, size=size, proj='bd-09')\n",
    "arr_sat, arr_den = np.asarray(sat), np.asarray(den)\n",
    "arr_sat, arr_den = 1.4*amp(decloud(arr_sat, 100), 3.5), amp(arr_den, 0.7)\n",
    "arr_mix1 = np.stack([arr_sat/255+2*arr_den/255, arr_sat/255, arr_sat/255], axis=2)\n",
    "\n",
    "fig, ax = plt.subplots(ncols=2, figsize=(12, 6))\n",
    "ax[0].imshow(arr_mix0, interpolation='lanczos', extent=ext0)\n",
    "ax[1].imshow(arr_mix1, interpolation='lanczos', extent=ext1)\n",
    "ax[0].set_title('Shanghai, 13k Radius')\n",
    "ax[1].set_title('Xi\\'an, 4km Radius')\n",
    "fig.savefig('draft/images/density_overlay.svg');"
   ]
  },
  {
   "cell_type": "code",
   "execution_count": 0,
   "metadata": {},
   "outputs": [],
   "source": []
  }
 ],
 "metadata": {
  "kernelspec": {
   "display_name": "Python 3.7",
   "language": "python",
   "name": "python3.7"
  },
  "language_info": {
   "codemirror_mode": {
    "name": "ipython",
    "version": 3
   },
   "file_extension": ".py",
   "mimetype": "text/x-python",
   "name": "python",
   "nbconvert_exporter": "python",
   "pygments_lexer": "ipython3",
   "version": "3.7.2"
  }
 },
 "nbformat": 4,
 "nbformat_minor": 2
}